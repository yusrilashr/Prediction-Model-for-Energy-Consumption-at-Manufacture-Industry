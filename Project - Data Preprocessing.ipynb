{
 "cells": [
  {
   "cell_type": "markdown",
   "id": "80fce44d-9366-4a9d-a789-970651155f4c",
   "metadata": {
    "tags": []
   },
   "source": [
    "# **Data Preprocessing**\n",
    "---\n",
    "Before the data is modeled, it is required to perform data preprocessing so that it can be modeled."
   ]
  },
  {
   "cell_type": "markdown",
   "id": "18e867b9-f552-44e6-b3d8-39d018690c3b",
   "metadata": {
    "tags": []
   },
   "source": [
    "### **Import Package and Data**"
   ]
  },
  {
   "cell_type": "code",
   "execution_count": 1,
   "id": "6be00101-1238-4564-86cc-6a22b9f7f59b",
   "metadata": {},
   "outputs": [],
   "source": [
    "import pandas as pd\n",
    "import numpy as np\n",
    "\n",
    "import matplotlib.pyplot as plt\n",
    "import seaborn as sns\n",
    "import joblib"
   ]
  },
  {
   "cell_type": "code",
   "execution_count": 2,
   "id": "b54b7b76-526b-4813-9ab5-69434349549e",
   "metadata": {
    "tags": []
   },
   "outputs": [],
   "source": [
    "X_train = joblib.load(\"D:/ML/INTRO ML/Project/joblib_train_test/X_train.csv\")\n",
    "y_train = joblib.load(\"D:/ML/INTRO ML/Project/joblib_train_test/y_train.csv\")\n",
    "X_test = joblib.load(\"D:/ML/INTRO ML/Project/joblib_train_test/X_test.csv\")\n",
    "y_test = joblib.load(\"D:/ML/INTRO ML/Project/joblib_train_test/y_test.csv\")\n",
    "#data = joblib.load(\"D:/ML/INTRO ML/Project/joblib_train_test/data.csv\")"
   ]
  },
  {
   "cell_type": "markdown",
   "id": "ab5f47c2-59bd-428d-a350-ded25b5ccf9c",
   "metadata": {},
   "source": [
    "### **Split data into categorical and numeric**"
   ]
  },
  {
   "cell_type": "code",
   "execution_count": 3,
   "id": "b68314a3-beb0-4a4b-ac32-7960457c7f03",
   "metadata": {
    "tags": []
   },
   "outputs": [],
   "source": [
    "#split by numerical and category\n",
    "\n",
    "X_train_numeric = X_train.select_dtypes(include=['int', 'float'])\n",
    "X_train_category = X_train.select_dtypes(include=['object'])\n",
    "X_test_numeric = X_test.select_dtypes(include=['int', 'float'])\n",
    "X_test_category = X_test.select_dtypes(include=['object'])"
   ]
  },
  {
   "cell_type": "code",
   "execution_count": 4,
   "id": "f1b09885-7220-4577-9ac2-4afe2c12a5e7",
   "metadata": {
    "tags": []
   },
   "outputs": [],
   "source": [
    "X_all = [X_train_numeric, X_train_category, X_test_numeric, X_test_category]\n",
    "\n",
    "def check_dataframe_shapes(dataframes_list):\n",
    "\n",
    "    for df in dataframes_list:\n",
    "        name = df.name if hasattr(df, 'name') else 'DataFrame'\n",
    "        print(f\"{name}: {df.shape[0]} rows, {df.shape[1]} columns\")"
   ]
  },
  {
   "cell_type": "code",
   "execution_count": 5,
   "id": "ffc3fe64-6b3a-40ab-8044-700ab58cb233",
   "metadata": {
    "tags": []
   },
   "outputs": [
    {
     "name": "stdout",
     "output_type": "stream",
     "text": [
      "DataFrame: 28032 rows, 6 columns\n",
      "DataFrame: 28032 rows, 3 columns\n",
      "DataFrame: 7008 rows, 6 columns\n",
      "DataFrame: 7008 rows, 3 columns\n"
     ]
    }
   ],
   "source": [
    "check_dataframe_shapes(X_all)"
   ]
  },
  {
   "cell_type": "code",
   "execution_count": 6,
   "id": "5714998e-e7e9-49b1-9a79-37a6d1e3aa0c",
   "metadata": {
    "tags": []
   },
   "outputs": [
    {
     "data": {
      "text/plain": [
       "LagRP     0\n",
       "LeadRP    0\n",
       "CO2       0\n",
       "LagPF     0\n",
       "LeadPF    0\n",
       "NSM       0\n",
       "dtype: int64"
      ]
     },
     "execution_count": 6,
     "metadata": {},
     "output_type": "execute_result"
    }
   ],
   "source": [
    "#check null again\n",
    "X_train_numeric.isna().sum()"
   ]
  },
  {
   "cell_type": "code",
   "execution_count": 7,
   "id": "608e50e8-df1f-4e01-ab92-36444c3c8c8f",
   "metadata": {
    "tags": []
   },
   "outputs": [
    {
     "data": {
      "text/plain": [
       "WStatus      0\n",
       "Dweek        0\n",
       "Load_Type    0\n",
       "dtype: int64"
      ]
     },
     "execution_count": 7,
     "metadata": {},
     "output_type": "execute_result"
    }
   ],
   "source": [
    "X_train_category.isna().sum()"
   ]
  },
  {
   "cell_type": "code",
   "execution_count": 8,
   "id": "ef19e88f-f47d-4610-a799-4f910094952a",
   "metadata": {
    "tags": []
   },
   "outputs": [
    {
     "data": {
      "text/plain": [
       "LagRP     0\n",
       "LeadRP    0\n",
       "CO2       0\n",
       "LagPF     0\n",
       "LeadPF    0\n",
       "NSM       0\n",
       "dtype: int64"
      ]
     },
     "execution_count": 8,
     "metadata": {},
     "output_type": "execute_result"
    }
   ],
   "source": [
    "#check null again\n",
    "X_test_numeric.isna().sum()"
   ]
  },
  {
   "cell_type": "code",
   "execution_count": 9,
   "id": "4eb40d87-d1fe-4531-9506-eab827851e0d",
   "metadata": {
    "tags": []
   },
   "outputs": [
    {
     "data": {
      "text/plain": [
       "WStatus      0\n",
       "Dweek        0\n",
       "Load_Type    0\n",
       "dtype: int64"
      ]
     },
     "execution_count": 9,
     "metadata": {},
     "output_type": "execute_result"
    }
   ],
   "source": [
    "X_test_category.isna().sum()"
   ]
  },
  {
   "cell_type": "markdown",
   "id": "01ab5307-6bd0-40df-a179-d6b361046d83",
   "metadata": {},
   "source": [
    "### **Using OHE for categorical data to can use at step modeling**"
   ]
  },
  {
   "cell_type": "code",
   "execution_count": 10,
   "id": "1fa6faef-32bc-4cd8-a9e2-1bd5e866f792",
   "metadata": {
    "tags": []
   },
   "outputs": [],
   "source": [
    "from sklearn.preprocessing import OneHotEncoder\n",
    "\n",
    "def encoderCat(data, encoder_col = None, encoder = None):\n",
    "    if encoder == None:\n",
    "        # Buat objek\n",
    "        encoder = OneHotEncoder(handle_unknown = \"ignore\",\n",
    "                                drop = \"if_binary\")\n",
    "        encoder.fit(data)\n",
    "        encoder_col = encoder.get_feature_names_out(data.columns)\n",
    "\n",
    "    # Transform data\n",
    "    data_encoded = encoder.transform(data).toarray()\n",
    "    data_encoded = pd.DataFrame(data_encoded,\n",
    "                                index = data.index,\n",
    "                                columns = encoder_col)\n",
    "    \n",
    "    return data_encoded, encoder_col, encoder"
   ]
  },
  {
   "cell_type": "code",
   "execution_count": 11,
   "id": "98f3040f-d760-49d8-a923-785f36e49f74",
   "metadata": {
    "tags": []
   },
   "outputs": [],
   "source": [
    "X_train_cat_encoded, encoder_col, encoder_OHE = encoderCat(data = X_train_category)"
   ]
  },
  {
   "cell_type": "code",
   "execution_count": 12,
   "id": "01ba192a-9d41-49b1-828e-8603a7021bd9",
   "metadata": {
    "tags": []
   },
   "outputs": [
    {
     "data": {
      "text/html": [
       "<div>\n",
       "<style scoped>\n",
       "    .dataframe tbody tr th:only-of-type {\n",
       "        vertical-align: middle;\n",
       "    }\n",
       "\n",
       "    .dataframe tbody tr th {\n",
       "        vertical-align: top;\n",
       "    }\n",
       "\n",
       "    .dataframe thead th {\n",
       "        text-align: right;\n",
       "    }\n",
       "</style>\n",
       "<table border=\"1\" class=\"dataframe\">\n",
       "  <thead>\n",
       "    <tr style=\"text-align: right;\">\n",
       "      <th></th>\n",
       "      <th>WStatus_Weekend</th>\n",
       "      <th>Dweek_Friday</th>\n",
       "      <th>Dweek_Monday</th>\n",
       "      <th>Dweek_Saturday</th>\n",
       "      <th>Dweek_Sunday</th>\n",
       "      <th>Dweek_Thursday</th>\n",
       "      <th>Dweek_Tuesday</th>\n",
       "      <th>Dweek_Wednesday</th>\n",
       "      <th>Load_Type_Light_Load</th>\n",
       "      <th>Load_Type_Maximum_Load</th>\n",
       "      <th>Load_Type_Medium_Load</th>\n",
       "    </tr>\n",
       "  </thead>\n",
       "  <tbody>\n",
       "    <tr>\n",
       "      <th>32530</th>\n",
       "      <td>0.0</td>\n",
       "      <td>0.0</td>\n",
       "      <td>0.0</td>\n",
       "      <td>0.0</td>\n",
       "      <td>0.0</td>\n",
       "      <td>0.0</td>\n",
       "      <td>0.0</td>\n",
       "      <td>1.0</td>\n",
       "      <td>0.0</td>\n",
       "      <td>0.0</td>\n",
       "      <td>1.0</td>\n",
       "    </tr>\n",
       "    <tr>\n",
       "      <th>17905</th>\n",
       "      <td>0.0</td>\n",
       "      <td>1.0</td>\n",
       "      <td>0.0</td>\n",
       "      <td>0.0</td>\n",
       "      <td>0.0</td>\n",
       "      <td>0.0</td>\n",
       "      <td>0.0</td>\n",
       "      <td>0.0</td>\n",
       "      <td>0.0</td>\n",
       "      <td>0.0</td>\n",
       "      <td>1.0</td>\n",
       "    </tr>\n",
       "  </tbody>\n",
       "</table>\n",
       "</div>"
      ],
      "text/plain": [
       "       WStatus_Weekend  Dweek_Friday  Dweek_Monday  Dweek_Saturday  \\\n",
       "32530              0.0           0.0           0.0             0.0   \n",
       "17905              0.0           1.0           0.0             0.0   \n",
       "\n",
       "       Dweek_Sunday  Dweek_Thursday  Dweek_Tuesday  Dweek_Wednesday  \\\n",
       "32530           0.0             0.0            0.0              1.0   \n",
       "17905           0.0             0.0            0.0              0.0   \n",
       "\n",
       "       Load_Type_Light_Load  Load_Type_Maximum_Load  Load_Type_Medium_Load  \n",
       "32530                   0.0                     0.0                    1.0  \n",
       "17905                   0.0                     0.0                    1.0  "
      ]
     },
     "execution_count": 12,
     "metadata": {},
     "output_type": "execute_result"
    }
   ],
   "source": [
    "X_train_cat_encoded.head(2)"
   ]
  },
  {
   "cell_type": "code",
   "execution_count": 13,
   "id": "48244eea-293b-46db-8314-0d08b4edb30b",
   "metadata": {
    "tags": []
   },
   "outputs": [],
   "source": [
    "X_test_cat_encoded, encoder_col_test, encoder_OHE_test = encoderCat(data = X_test_category)"
   ]
  },
  {
   "cell_type": "code",
   "execution_count": 14,
   "id": "6bb1da22-0995-4a4d-b2d5-a4fe3aa56489",
   "metadata": {
    "tags": []
   },
   "outputs": [
    {
     "data": {
      "text/html": [
       "<div>\n",
       "<style scoped>\n",
       "    .dataframe tbody tr th:only-of-type {\n",
       "        vertical-align: middle;\n",
       "    }\n",
       "\n",
       "    .dataframe tbody tr th {\n",
       "        vertical-align: top;\n",
       "    }\n",
       "\n",
       "    .dataframe thead th {\n",
       "        text-align: right;\n",
       "    }\n",
       "</style>\n",
       "<table border=\"1\" class=\"dataframe\">\n",
       "  <thead>\n",
       "    <tr style=\"text-align: right;\">\n",
       "      <th></th>\n",
       "      <th>WStatus_Weekend</th>\n",
       "      <th>Dweek_Friday</th>\n",
       "      <th>Dweek_Monday</th>\n",
       "      <th>Dweek_Saturday</th>\n",
       "      <th>Dweek_Sunday</th>\n",
       "      <th>Dweek_Thursday</th>\n",
       "      <th>Dweek_Tuesday</th>\n",
       "      <th>Dweek_Wednesday</th>\n",
       "      <th>Load_Type_Light_Load</th>\n",
       "      <th>Load_Type_Maximum_Load</th>\n",
       "      <th>Load_Type_Medium_Load</th>\n",
       "    </tr>\n",
       "  </thead>\n",
       "  <tbody>\n",
       "    <tr>\n",
       "      <th>16785</th>\n",
       "      <td>1.0</td>\n",
       "      <td>0.0</td>\n",
       "      <td>0.0</td>\n",
       "      <td>0.0</td>\n",
       "      <td>1.0</td>\n",
       "      <td>0.0</td>\n",
       "      <td>0.0</td>\n",
       "      <td>0.0</td>\n",
       "      <td>0.0</td>\n",
       "      <td>0.0</td>\n",
       "      <td>1.0</td>\n",
       "    </tr>\n",
       "    <tr>\n",
       "      <th>17693</th>\n",
       "      <td>0.0</td>\n",
       "      <td>0.0</td>\n",
       "      <td>0.0</td>\n",
       "      <td>0.0</td>\n",
       "      <td>0.0</td>\n",
       "      <td>0.0</td>\n",
       "      <td>0.0</td>\n",
       "      <td>1.0</td>\n",
       "      <td>1.0</td>\n",
       "      <td>0.0</td>\n",
       "      <td>0.0</td>\n",
       "    </tr>\n",
       "  </tbody>\n",
       "</table>\n",
       "</div>"
      ],
      "text/plain": [
       "       WStatus_Weekend  Dweek_Friday  Dweek_Monday  Dweek_Saturday  \\\n",
       "16785              1.0           0.0           0.0             0.0   \n",
       "17693              0.0           0.0           0.0             0.0   \n",
       "\n",
       "       Dweek_Sunday  Dweek_Thursday  Dweek_Tuesday  Dweek_Wednesday  \\\n",
       "16785           1.0             0.0            0.0              0.0   \n",
       "17693           0.0             0.0            0.0              1.0   \n",
       "\n",
       "       Load_Type_Light_Load  Load_Type_Maximum_Load  Load_Type_Medium_Load  \n",
       "16785                   0.0                     0.0                    1.0  \n",
       "17693                   1.0                     0.0                    0.0  "
      ]
     },
     "execution_count": 14,
     "metadata": {},
     "output_type": "execute_result"
    }
   ],
   "source": [
    "X_test_cat_encoded.head(2)"
   ]
  },
  {
   "cell_type": "code",
   "execution_count": 15,
   "id": "41ac638e-1455-476c-98a6-4db216278841",
   "metadata": {
    "tags": []
   },
   "outputs": [
    {
     "data": {
      "text/plain": [
       "(28032, 17)"
      ]
     },
     "execution_count": 15,
     "metadata": {},
     "output_type": "execute_result"
    }
   ],
   "source": [
    "X_train_concat = pd.concat([X_train_numeric, X_train_cat_encoded],\n",
    "                           axis = 1).reset_index(drop = True)\n",
    "X_train_concat.shape"
   ]
  },
  {
   "cell_type": "code",
   "execution_count": 16,
   "id": "5f9bf2cb-61d7-4145-982a-68a22aedb82f",
   "metadata": {
    "tags": []
   },
   "outputs": [
    {
     "data": {
      "text/plain": [
       "(7008, 17)"
      ]
     },
     "execution_count": 16,
     "metadata": {},
     "output_type": "execute_result"
    }
   ],
   "source": [
    "X_test_concat = pd.concat([X_test_numeric, X_test_cat_encoded],\n",
    "                           axis = 1).reset_index(drop = True)\n",
    "X_test_concat.shape"
   ]
  },
  {
   "cell_type": "markdown",
   "id": "ff6c7da2-0410-409a-9b2e-6560c908e350",
   "metadata": {},
   "source": [
    "### **Scaling**"
   ]
  },
  {
   "cell_type": "code",
   "execution_count": 17,
   "id": "e187271a-cefe-48ef-8fa4-cf180e408c72",
   "metadata": {
    "tags": []
   },
   "outputs": [],
   "source": [
    "from sklearn.preprocessing import StandardScaler\n",
    "scaler = StandardScaler()"
   ]
  },
  {
   "cell_type": "code",
   "execution_count": 18,
   "id": "ee7db594-0f99-493f-ab7b-49a05ef687e6",
   "metadata": {
    "tags": []
   },
   "outputs": [],
   "source": [
    "#lets make to function\n",
    "\n",
    "def scaler_transform(X, scaler =  None):\n",
    "    \n",
    "    if scaler != None:\n",
    "        pass\n",
    "    else:\n",
    "        scaler = StandardScaler()\n",
    "        scaler.fit(X)\n",
    "        \n",
    "    #transform data\n",
    "    X_scaled = scaler.transform(X)\n",
    "    X_scaled = pd.DataFrame(X_scaled,\n",
    "                           columns = X.columns,\n",
    "                           index = X.index)\n",
    "    return X_scaled, scaler"
   ]
  },
  {
   "cell_type": "code",
   "execution_count": 19,
   "id": "66257c7a-bb32-4065-b7cb-354967303a34",
   "metadata": {
    "tags": []
   },
   "outputs": [
    {
     "data": {
      "text/plain": [
       "(28032, 17)"
      ]
     },
     "execution_count": 19,
     "metadata": {},
     "output_type": "execute_result"
    }
   ],
   "source": [
    "X_train_clean , scaler = scaler_transform(X =  X_train_concat)\n",
    "X_train_clean.shape"
   ]
  },
  {
   "cell_type": "code",
   "execution_count": 20,
   "id": "05ee60bb-b754-4e49-af8b-ded07709cc35",
   "metadata": {
    "tags": []
   },
   "outputs": [
    {
     "data": {
      "text/plain": [
       "(7008, 17)"
      ]
     },
     "execution_count": 20,
     "metadata": {},
     "output_type": "execute_result"
    }
   ],
   "source": [
    "X_test_clean , scaler = scaler_transform(X =  X_test_concat)\n",
    "X_test_clean.shape"
   ]
  },
  {
   "cell_type": "code",
   "execution_count": 25,
   "id": "008a633b-2cc9-4c37-b51b-c6fda71ec8aa",
   "metadata": {
    "tags": []
   },
   "outputs": [
    {
     "data": {
      "text/plain": [
       "0"
      ]
     },
     "execution_count": 25,
     "metadata": {},
     "output_type": "execute_result"
    }
   ],
   "source": [
    "y_test.isna().sum()"
   ]
  },
  {
   "cell_type": "code",
   "execution_count": 26,
   "id": "06a2e88a-a657-43dc-9c94-45e339fc42e3",
   "metadata": {
    "tags": []
   },
   "outputs": [
    {
     "data": {
      "text/plain": [
       "(7008,)"
      ]
     },
     "execution_count": 26,
     "metadata": {},
     "output_type": "execute_result"
    }
   ],
   "source": [
    "y_test.shape"
   ]
  },
  {
   "cell_type": "code",
   "execution_count": 27,
   "id": "3e78e8c0-02bc-41df-b03b-a1367d6aed97",
   "metadata": {
    "tags": []
   },
   "outputs": [
    {
     "data": {
      "text/plain": [
       "0"
      ]
     },
     "execution_count": 27,
     "metadata": {},
     "output_type": "execute_result"
    }
   ],
   "source": [
    "y_train.isna().sum()"
   ]
  },
  {
   "cell_type": "markdown",
   "id": "3d51a224-7e34-4e5e-8916-bd548ec0fd98",
   "metadata": {},
   "source": [
    "## **save preprocessing result data**"
   ]
  },
  {
   "cell_type": "code",
   "execution_count": 24,
   "id": "ef3a4e3e-1503-47b9-bddc-56f7c326cd0b",
   "metadata": {
    "tags": []
   },
   "outputs": [
    {
     "data": {
      "text/plain": [
       "['D:/ML/INTRO ML/Project/joblib_train_test/X_test_clean.csv']"
      ]
     },
     "execution_count": 24,
     "metadata": {},
     "output_type": "execute_result"
    }
   ],
   "source": [
    "joblib.dump(X_train_clean,\"D:/ML/INTRO ML/Project/joblib_train_test/X_train_clean.csv\")\n",
    "joblib.dump(X_test_clean,\"D:/ML/INTRO ML/Project/joblib_train_test/X_test_clean.csv\")"
   ]
  }
 ],
 "metadata": {
  "kernelspec": {
   "display_name": "Python 3 (ipykernel)",
   "language": "python",
   "name": "python3"
  },
  "language_info": {
   "codemirror_mode": {
    "name": "ipython",
    "version": 3
   },
   "file_extension": ".py",
   "mimetype": "text/x-python",
   "name": "python",
   "nbconvert_exporter": "python",
   "pygments_lexer": "ipython3",
   "version": "3.11.4"
  }
 },
 "nbformat": 4,
 "nbformat_minor": 5
}
