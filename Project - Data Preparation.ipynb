{
 "cells": [
  {
   "cell_type": "markdown",
   "id": "e9e20159-1c40-4d14-942b-94a4b3c7256f",
   "metadata": {},
   "source": [
    "# **Data Preparation**\n",
    "---\n",
    "Prepare the dataset from The DAEWOO Steel Co. Ltd in Gwangyang, South Korea. It produces several types of coils, steel plates, and iron plates. The information on electricity consumption is held in a cloud-based system. The information on energy consumption of the industry is stored on the website of the Korea Electric Power Corporation (pccs.kepco.go.kr), and the perspectives on daily, monthly, and annual data are calculated and shown. Avalaible in www.uci.edu"
   ]
  },
  {
   "cell_type": "markdown",
   "id": "018816ba-b27b-4ea0-818a-eaa49588057b",
   "metadata": {
    "tags": []
   },
   "source": [
    "### **Import package and Data**"
   ]
  },
  {
   "cell_type": "code",
   "execution_count": 1,
   "id": "db7cfb63-e2dd-4bac-b1b2-697ea8436476",
   "metadata": {
    "tags": []
   },
   "outputs": [],
   "source": [
    "import pandas as pd\n",
    "import numpy as np\n",
    "\n",
    "import joblib"
   ]
  },
  {
   "cell_type": "code",
   "execution_count": 2,
   "id": "468928c5-ebfe-4a37-88a7-d976a7600a0f",
   "metadata": {
    "tags": []
   },
   "outputs": [
    {
     "data": {
      "text/html": [
       "<div>\n",
       "<style scoped>\n",
       "    .dataframe tbody tr th:only-of-type {\n",
       "        vertical-align: middle;\n",
       "    }\n",
       "\n",
       "    .dataframe tbody tr th {\n",
       "        vertical-align: top;\n",
       "    }\n",
       "\n",
       "    .dataframe thead th {\n",
       "        text-align: right;\n",
       "    }\n",
       "</style>\n",
       "<table border=\"1\" class=\"dataframe\">\n",
       "  <thead>\n",
       "    <tr style=\"text-align: right;\">\n",
       "      <th></th>\n",
       "      <th>date</th>\n",
       "      <th>Usage_kWh</th>\n",
       "      <th>Lagging_Current_Reactive.Power_kVarh</th>\n",
       "      <th>Leading_Current_Reactive_Power_kVarh</th>\n",
       "      <th>CO2(tCO2)</th>\n",
       "      <th>Lagging_Current_Power_Factor</th>\n",
       "      <th>Leading_Current_Power_Factor</th>\n",
       "      <th>NSM</th>\n",
       "      <th>WeekStatus</th>\n",
       "      <th>Day_of_week</th>\n",
       "      <th>Load_Type</th>\n",
       "    </tr>\n",
       "  </thead>\n",
       "  <tbody>\n",
       "    <tr>\n",
       "      <th>0</th>\n",
       "      <td>01/01/2018 00:15</td>\n",
       "      <td>3.17</td>\n",
       "      <td>2.95</td>\n",
       "      <td>0.0</td>\n",
       "      <td>0.0</td>\n",
       "      <td>73.21</td>\n",
       "      <td>100.0</td>\n",
       "      <td>900</td>\n",
       "      <td>Weekday</td>\n",
       "      <td>Monday</td>\n",
       "      <td>Light_Load</td>\n",
       "    </tr>\n",
       "    <tr>\n",
       "      <th>1</th>\n",
       "      <td>01/01/2018 00:30</td>\n",
       "      <td>4.00</td>\n",
       "      <td>4.46</td>\n",
       "      <td>0.0</td>\n",
       "      <td>0.0</td>\n",
       "      <td>66.77</td>\n",
       "      <td>100.0</td>\n",
       "      <td>1800</td>\n",
       "      <td>Weekday</td>\n",
       "      <td>Monday</td>\n",
       "      <td>Light_Load</td>\n",
       "    </tr>\n",
       "  </tbody>\n",
       "</table>\n",
       "</div>"
      ],
      "text/plain": [
       "               date  Usage_kWh  Lagging_Current_Reactive.Power_kVarh  \\\n",
       "0  01/01/2018 00:15       3.17                                  2.95   \n",
       "1  01/01/2018 00:30       4.00                                  4.46   \n",
       "\n",
       "   Leading_Current_Reactive_Power_kVarh  CO2(tCO2)  \\\n",
       "0                                   0.0        0.0   \n",
       "1                                   0.0        0.0   \n",
       "\n",
       "   Lagging_Current_Power_Factor  Leading_Current_Power_Factor   NSM  \\\n",
       "0                         73.21                         100.0   900   \n",
       "1                         66.77                         100.0  1800   \n",
       "\n",
       "  WeekStatus Day_of_week   Load_Type  \n",
       "0    Weekday      Monday  Light_Load  \n",
       "1    Weekday      Monday  Light_Load  "
      ]
     },
     "execution_count": 2,
     "metadata": {},
     "output_type": "execute_result"
    }
   ],
   "source": [
    "df = pd.read_csv('Steel_industry_data.csv')\n",
    "df.head(2)"
   ]
  },
  {
   "cell_type": "markdown",
   "id": "6fd2353b-a02e-406c-9091-d82075e2ed08",
   "metadata": {
    "tags": []
   },
   "source": [
    "### **Checking duplicated**"
   ]
  },
  {
   "cell_type": "code",
   "execution_count": 3,
   "id": "ae9c7370-cbf5-463b-82f0-2a0f8e52ac88",
   "metadata": {
    "tags": []
   },
   "outputs": [],
   "source": [
    "def checking_data(filename):\n",
    "    #before check duplicated\n",
    "    df = filename\n",
    "    print(f'{df.shape} #Raw #Columns')\n",
    "    \n",
    "    #checking duplicated\n",
    "    df = df.drop_duplicates()\n",
    "    print(f'{df.shape} #Raw #Columns')\n",
    "    \n",
    "    return df"
   ]
  },
  {
   "cell_type": "code",
   "execution_count": 4,
   "id": "e22eaa10-74ce-4994-9752-6ded21f3da65",
   "metadata": {
    "tags": []
   },
   "outputs": [
    {
     "name": "stdout",
     "output_type": "stream",
     "text": [
      "(35040, 11) #Raw #Columns\n",
      "(35040, 11) #Raw #Columns\n"
     ]
    },
    {
     "data": {
      "text/html": [
       "<div>\n",
       "<style scoped>\n",
       "    .dataframe tbody tr th:only-of-type {\n",
       "        vertical-align: middle;\n",
       "    }\n",
       "\n",
       "    .dataframe tbody tr th {\n",
       "        vertical-align: top;\n",
       "    }\n",
       "\n",
       "    .dataframe thead th {\n",
       "        text-align: right;\n",
       "    }\n",
       "</style>\n",
       "<table border=\"1\" class=\"dataframe\">\n",
       "  <thead>\n",
       "    <tr style=\"text-align: right;\">\n",
       "      <th></th>\n",
       "      <th>date</th>\n",
       "      <th>Usage_kWh</th>\n",
       "      <th>Lagging_Current_Reactive.Power_kVarh</th>\n",
       "      <th>Leading_Current_Reactive_Power_kVarh</th>\n",
       "      <th>CO2(tCO2)</th>\n",
       "      <th>Lagging_Current_Power_Factor</th>\n",
       "      <th>Leading_Current_Power_Factor</th>\n",
       "      <th>NSM</th>\n",
       "      <th>WeekStatus</th>\n",
       "      <th>Day_of_week</th>\n",
       "      <th>Load_Type</th>\n",
       "    </tr>\n",
       "  </thead>\n",
       "  <tbody>\n",
       "    <tr>\n",
       "      <th>0</th>\n",
       "      <td>01/01/2018 00:15</td>\n",
       "      <td>3.17</td>\n",
       "      <td>2.95</td>\n",
       "      <td>0.0</td>\n",
       "      <td>0.0</td>\n",
       "      <td>73.21</td>\n",
       "      <td>100.0</td>\n",
       "      <td>900</td>\n",
       "      <td>Weekday</td>\n",
       "      <td>Monday</td>\n",
       "      <td>Light_Load</td>\n",
       "    </tr>\n",
       "    <tr>\n",
       "      <th>1</th>\n",
       "      <td>01/01/2018 00:30</td>\n",
       "      <td>4.00</td>\n",
       "      <td>4.46</td>\n",
       "      <td>0.0</td>\n",
       "      <td>0.0</td>\n",
       "      <td>66.77</td>\n",
       "      <td>100.0</td>\n",
       "      <td>1800</td>\n",
       "      <td>Weekday</td>\n",
       "      <td>Monday</td>\n",
       "      <td>Light_Load</td>\n",
       "    </tr>\n",
       "  </tbody>\n",
       "</table>\n",
       "</div>"
      ],
      "text/plain": [
       "               date  Usage_kWh  Lagging_Current_Reactive.Power_kVarh  \\\n",
       "0  01/01/2018 00:15       3.17                                  2.95   \n",
       "1  01/01/2018 00:30       4.00                                  4.46   \n",
       "\n",
       "   Leading_Current_Reactive_Power_kVarh  CO2(tCO2)  \\\n",
       "0                                   0.0        0.0   \n",
       "1                                   0.0        0.0   \n",
       "\n",
       "   Lagging_Current_Power_Factor  Leading_Current_Power_Factor   NSM  \\\n",
       "0                         73.21                         100.0   900   \n",
       "1                         66.77                         100.0  1800   \n",
       "\n",
       "  WeekStatus Day_of_week   Load_Type  \n",
       "0    Weekday      Monday  Light_Load  \n",
       "1    Weekday      Monday  Light_Load  "
      ]
     },
     "execution_count": 4,
     "metadata": {},
     "output_type": "execute_result"
    }
   ],
   "source": [
    "df = checking_data(df)\n",
    "df.head(2)"
   ]
  },
  {
   "cell_type": "markdown",
   "id": "8dbf225f-6052-48a7-b62b-d31db866ff90",
   "metadata": {
    "tags": []
   },
   "source": [
    "### **Checking validation and NA**"
   ]
  },
  {
   "cell_type": "markdown",
   "id": "ebe53147-0513-4e85-be61-d075aa6f1846",
   "metadata": {},
   "source": [
    "**NA check**"
   ]
  },
  {
   "cell_type": "code",
   "execution_count": 5,
   "id": "e8936aff-2c33-430b-a0c8-519345f25a6c",
   "metadata": {
    "tags": []
   },
   "outputs": [
    {
     "data": {
      "text/plain": [
       "date                                    False\n",
       "Usage_kWh                               False\n",
       "Lagging_Current_Reactive.Power_kVarh    False\n",
       "Leading_Current_Reactive_Power_kVarh    False\n",
       "CO2(tCO2)                               False\n",
       "Lagging_Current_Power_Factor            False\n",
       "Leading_Current_Power_Factor            False\n",
       "NSM                                     False\n",
       "WeekStatus                              False\n",
       "Day_of_week                             False\n",
       "Load_Type                               False\n",
       "dtype: bool"
      ]
     },
     "execution_count": 5,
     "metadata": {},
     "output_type": "execute_result"
    }
   ],
   "source": [
    "df.isna().any()"
   ]
  },
  {
   "cell_type": "markdown",
   "id": "e32f7703-b346-402c-abdd-6baae2c58aaf",
   "metadata": {
    "tags": []
   },
   "source": [
    "**Cross check data validation**"
   ]
  },
  {
   "cell_type": "code",
   "execution_count": 6,
   "id": "5ad7d744-6361-489c-84e0-9643a3560e9c",
   "metadata": {
    "tags": []
   },
   "outputs": [
    {
     "name": "stdout",
     "output_type": "stream",
     "text": [
      "<class 'pandas.core.frame.DataFrame'>\n",
      "Int64Index: 35040 entries, 0 to 35039\n",
      "Data columns (total 11 columns):\n",
      " #   Column                                Non-Null Count  Dtype  \n",
      "---  ------                                --------------  -----  \n",
      " 0   date                                  35040 non-null  object \n",
      " 1   Usage_kWh                             35040 non-null  float64\n",
      " 2   Lagging_Current_Reactive.Power_kVarh  35040 non-null  float64\n",
      " 3   Leading_Current_Reactive_Power_kVarh  35040 non-null  float64\n",
      " 4   CO2(tCO2)                             35040 non-null  float64\n",
      " 5   Lagging_Current_Power_Factor          35040 non-null  float64\n",
      " 6   Leading_Current_Power_Factor          35040 non-null  float64\n",
      " 7   NSM                                   35040 non-null  int64  \n",
      " 8   WeekStatus                            35040 non-null  object \n",
      " 9   Day_of_week                           35040 non-null  object \n",
      " 10  Load_Type                             35040 non-null  object \n",
      "dtypes: float64(6), int64(1), object(4)\n",
      "memory usage: 3.2+ MB\n"
     ]
    }
   ],
   "source": [
    "df.info()"
   ]
  },
  {
   "cell_type": "code",
   "execution_count": 13,
   "id": "48d133da-2d54-4ad3-97f6-99180831d8f9",
   "metadata": {
    "tags": []
   },
   "outputs": [],
   "source": [
    "df['date'] = pd.to_datetime(df['date'])"
   ]
  },
  {
   "cell_type": "code",
   "execution_count": 14,
   "id": "763c7428-93f2-4867-b4f9-dae64774da90",
   "metadata": {
    "tags": []
   },
   "outputs": [],
   "source": [
    "def get_unique_cat(df):\n",
    "    unique_values_list = []\n",
    "\n",
    "    for column in df.columns:\n",
    "        if df[column].dtype == 'object':\n",
    "            unique_values = df[column].unique()\n",
    "            unique_values_list.append(f\"{column}: {', '.join(unique_values)}\")\n",
    "\n",
    "    return unique_values_list"
   ]
  },
  {
   "cell_type": "code",
   "execution_count": 15,
   "id": "6ac2591a-fb0d-4b15-9c4f-62344fab5710",
   "metadata": {
    "tags": []
   },
   "outputs": [
    {
     "data": {
      "text/plain": [
       "['WeekStatus: Weekday, Weekend',\n",
       " 'Day_of_week: Monday, Tuesday, Wednesday, Thursday, Friday, Saturday, Sunday',\n",
       " 'Load_Type: Light_Load, Medium_Load, Maximum_Load']"
      ]
     },
     "execution_count": 15,
     "metadata": {},
     "output_type": "execute_result"
    }
   ],
   "source": [
    "df_object_unique = get_unique_cat(df)\n",
    "df_object_unique"
   ]
  },
  {
   "cell_type": "markdown",
   "id": "c4a6a739-172c-4e4a-b397-3c629b49d5bd",
   "metadata": {},
   "source": [
    "**NOTE** : The 'Date' column will not be removed from this dataset because it will be used in the exploratory data analysis (EDA). After the EDA is complete, the 'Date' column will be removed"
   ]
  },
  {
   "cell_type": "markdown",
   "id": "84c80d40-baaf-4ebe-a9a7-acee49ab16ef",
   "metadata": {
    "tags": []
   },
   "source": [
    "### **Data Definition**"
   ]
  },
  {
   "cell_type": "code",
   "execution_count": 16,
   "id": "e54cf747-7a89-4f95-9bd9-055dc8781c55",
   "metadata": {
    "tags": []
   },
   "outputs": [
    {
     "data": {
      "text/plain": [
       "Index(['date', 'Usage_kWh', 'Lagging_Current_Reactive.Power_kVarh',\n",
       "       'Leading_Current_Reactive_Power_kVarh', 'CO2(tCO2)',\n",
       "       'Lagging_Current_Power_Factor', 'Leading_Current_Power_Factor', 'NSM',\n",
       "       'WeekStatus', 'Day_of_week', 'Load_Type'],\n",
       "      dtype='object')"
      ]
     },
     "execution_count": 16,
     "metadata": {},
     "output_type": "execute_result"
    }
   ],
   "source": [
    "df.columns"
   ]
  },
  {
   "cell_type": "code",
   "execution_count": 21,
   "id": "20aef85c-e937-477c-88df-58e1c7400723",
   "metadata": {
    "tags": []
   },
   "outputs": [],
   "source": [
    "#rename the columns like the paper\n",
    "df_renamed = df.rename(columns = {'Usage_kWh' : 'Usage',\n",
    "                                 'Lagging_Current_Reactive.Power_kVarh': 'LagRP',\n",
    "                                 'Leading_Current_Reactive_Power_kVarh' : 'LeadRP',\n",
    "                                 'CO2(tCO2)': 'CO2',\n",
    "                                 'Lagging_Current_Power_Factor': 'LagPF',\n",
    "                                  'Leading_Current_Power_Factor' : 'LeadPF',\n",
    "                                 'NSM': 'NSM',\n",
    "                                 'WeekStatus': 'WStatus',\n",
    "                                 'Day_of_week': 'Dweek',\n",
    "                                 'Load Type': 'Ltype'})"
   ]
  },
  {
   "cell_type": "code",
   "execution_count": 22,
   "id": "28f883fa-3ac0-4e29-9331-7cd43b191f5a",
   "metadata": {
    "tags": []
   },
   "outputs": [
    {
     "data": {
      "text/html": [
       "<div>\n",
       "<style scoped>\n",
       "    .dataframe tbody tr th:only-of-type {\n",
       "        vertical-align: middle;\n",
       "    }\n",
       "\n",
       "    .dataframe tbody tr th {\n",
       "        vertical-align: top;\n",
       "    }\n",
       "\n",
       "    .dataframe thead th {\n",
       "        text-align: right;\n",
       "    }\n",
       "</style>\n",
       "<table border=\"1\" class=\"dataframe\">\n",
       "  <thead>\n",
       "    <tr style=\"text-align: right;\">\n",
       "      <th></th>\n",
       "      <th>date</th>\n",
       "      <th>Usage</th>\n",
       "      <th>LagRP</th>\n",
       "      <th>LeadRP</th>\n",
       "      <th>CO2</th>\n",
       "      <th>LagPF</th>\n",
       "      <th>LeadPF</th>\n",
       "      <th>NSM</th>\n",
       "      <th>WStatus</th>\n",
       "      <th>Dweek</th>\n",
       "      <th>Load_Type</th>\n",
       "    </tr>\n",
       "  </thead>\n",
       "  <tbody>\n",
       "    <tr>\n",
       "      <th>0</th>\n",
       "      <td>2018-01-01 00:15:00</td>\n",
       "      <td>3.17</td>\n",
       "      <td>2.95</td>\n",
       "      <td>0.0</td>\n",
       "      <td>0.0</td>\n",
       "      <td>73.21</td>\n",
       "      <td>100.0</td>\n",
       "      <td>900</td>\n",
       "      <td>Weekday</td>\n",
       "      <td>Monday</td>\n",
       "      <td>Light_Load</td>\n",
       "    </tr>\n",
       "    <tr>\n",
       "      <th>1</th>\n",
       "      <td>2018-01-01 00:30:00</td>\n",
       "      <td>4.00</td>\n",
       "      <td>4.46</td>\n",
       "      <td>0.0</td>\n",
       "      <td>0.0</td>\n",
       "      <td>66.77</td>\n",
       "      <td>100.0</td>\n",
       "      <td>1800</td>\n",
       "      <td>Weekday</td>\n",
       "      <td>Monday</td>\n",
       "      <td>Light_Load</td>\n",
       "    </tr>\n",
       "    <tr>\n",
       "      <th>2</th>\n",
       "      <td>2018-01-01 00:45:00</td>\n",
       "      <td>3.24</td>\n",
       "      <td>3.28</td>\n",
       "      <td>0.0</td>\n",
       "      <td>0.0</td>\n",
       "      <td>70.28</td>\n",
       "      <td>100.0</td>\n",
       "      <td>2700</td>\n",
       "      <td>Weekday</td>\n",
       "      <td>Monday</td>\n",
       "      <td>Light_Load</td>\n",
       "    </tr>\n",
       "    <tr>\n",
       "      <th>3</th>\n",
       "      <td>2018-01-01 01:00:00</td>\n",
       "      <td>3.31</td>\n",
       "      <td>3.56</td>\n",
       "      <td>0.0</td>\n",
       "      <td>0.0</td>\n",
       "      <td>68.09</td>\n",
       "      <td>100.0</td>\n",
       "      <td>3600</td>\n",
       "      <td>Weekday</td>\n",
       "      <td>Monday</td>\n",
       "      <td>Light_Load</td>\n",
       "    </tr>\n",
       "    <tr>\n",
       "      <th>4</th>\n",
       "      <td>2018-01-01 01:15:00</td>\n",
       "      <td>3.82</td>\n",
       "      <td>4.50</td>\n",
       "      <td>0.0</td>\n",
       "      <td>0.0</td>\n",
       "      <td>64.72</td>\n",
       "      <td>100.0</td>\n",
       "      <td>4500</td>\n",
       "      <td>Weekday</td>\n",
       "      <td>Monday</td>\n",
       "      <td>Light_Load</td>\n",
       "    </tr>\n",
       "  </tbody>\n",
       "</table>\n",
       "</div>"
      ],
      "text/plain": [
       "                 date  Usage  LagRP  LeadRP  CO2  LagPF  LeadPF   NSM  \\\n",
       "0 2018-01-01 00:15:00   3.17   2.95     0.0  0.0  73.21   100.0   900   \n",
       "1 2018-01-01 00:30:00   4.00   4.46     0.0  0.0  66.77   100.0  1800   \n",
       "2 2018-01-01 00:45:00   3.24   3.28     0.0  0.0  70.28   100.0  2700   \n",
       "3 2018-01-01 01:00:00   3.31   3.56     0.0  0.0  68.09   100.0  3600   \n",
       "4 2018-01-01 01:15:00   3.82   4.50     0.0  0.0  64.72   100.0  4500   \n",
       "\n",
       "   WStatus   Dweek   Load_Type  \n",
       "0  Weekday  Monday  Light_Load  \n",
       "1  Weekday  Monday  Light_Load  \n",
       "2  Weekday  Monday  Light_Load  \n",
       "3  Weekday  Monday  Light_Load  \n",
       "4  Weekday  Monday  Light_Load  "
      ]
     },
     "execution_count": 22,
     "metadata": {},
     "output_type": "execute_result"
    }
   ],
   "source": [
    "df_renamed.head(5)"
   ]
  },
  {
   "cell_type": "markdown",
   "id": "b2de581b-46e7-411e-a22b-f9447cea6534",
   "metadata": {
    "tags": []
   },
   "source": [
    "### **Spliting and Dumping Data**"
   ]
  },
  {
   "cell_type": "code",
   "execution_count": 23,
   "id": "32ca4d32-ff55-4863-9f61-75bf09959fb4",
   "metadata": {
    "tags": []
   },
   "outputs": [],
   "source": [
    "def split_input_output(data, become_y):\n",
    "    \n",
    "    y = data[become_y]\n",
    "    X = data.drop(columns = become_y)\n",
    "    \n",
    "    return X,y"
   ]
  },
  {
   "cell_type": "code",
   "execution_count": 25,
   "id": "fb803b02-fa32-445e-bbee-080fd4d4f71e",
   "metadata": {
    "tags": []
   },
   "outputs": [
    {
     "data": {
      "text/html": [
       "<div>\n",
       "<style scoped>\n",
       "    .dataframe tbody tr th:only-of-type {\n",
       "        vertical-align: middle;\n",
       "    }\n",
       "\n",
       "    .dataframe tbody tr th {\n",
       "        vertical-align: top;\n",
       "    }\n",
       "\n",
       "    .dataframe thead th {\n",
       "        text-align: right;\n",
       "    }\n",
       "</style>\n",
       "<table border=\"1\" class=\"dataframe\">\n",
       "  <thead>\n",
       "    <tr style=\"text-align: right;\">\n",
       "      <th></th>\n",
       "      <th>date</th>\n",
       "      <th>LagRP</th>\n",
       "      <th>LeadRP</th>\n",
       "      <th>CO2</th>\n",
       "      <th>LagPF</th>\n",
       "      <th>LeadPF</th>\n",
       "      <th>NSM</th>\n",
       "      <th>WStatus</th>\n",
       "      <th>Dweek</th>\n",
       "      <th>Load_Type</th>\n",
       "    </tr>\n",
       "  </thead>\n",
       "  <tbody>\n",
       "    <tr>\n",
       "      <th>0</th>\n",
       "      <td>2018-01-01 00:15:00</td>\n",
       "      <td>2.95</td>\n",
       "      <td>0.0</td>\n",
       "      <td>0.0</td>\n",
       "      <td>73.21</td>\n",
       "      <td>100.0</td>\n",
       "      <td>900</td>\n",
       "      <td>Weekday</td>\n",
       "      <td>Monday</td>\n",
       "      <td>Light_Load</td>\n",
       "    </tr>\n",
       "    <tr>\n",
       "      <th>1</th>\n",
       "      <td>2018-01-01 00:30:00</td>\n",
       "      <td>4.46</td>\n",
       "      <td>0.0</td>\n",
       "      <td>0.0</td>\n",
       "      <td>66.77</td>\n",
       "      <td>100.0</td>\n",
       "      <td>1800</td>\n",
       "      <td>Weekday</td>\n",
       "      <td>Monday</td>\n",
       "      <td>Light_Load</td>\n",
       "    </tr>\n",
       "    <tr>\n",
       "      <th>2</th>\n",
       "      <td>2018-01-01 00:45:00</td>\n",
       "      <td>3.28</td>\n",
       "      <td>0.0</td>\n",
       "      <td>0.0</td>\n",
       "      <td>70.28</td>\n",
       "      <td>100.0</td>\n",
       "      <td>2700</td>\n",
       "      <td>Weekday</td>\n",
       "      <td>Monday</td>\n",
       "      <td>Light_Load</td>\n",
       "    </tr>\n",
       "    <tr>\n",
       "      <th>3</th>\n",
       "      <td>2018-01-01 01:00:00</td>\n",
       "      <td>3.56</td>\n",
       "      <td>0.0</td>\n",
       "      <td>0.0</td>\n",
       "      <td>68.09</td>\n",
       "      <td>100.0</td>\n",
       "      <td>3600</td>\n",
       "      <td>Weekday</td>\n",
       "      <td>Monday</td>\n",
       "      <td>Light_Load</td>\n",
       "    </tr>\n",
       "    <tr>\n",
       "      <th>4</th>\n",
       "      <td>2018-01-01 01:15:00</td>\n",
       "      <td>4.50</td>\n",
       "      <td>0.0</td>\n",
       "      <td>0.0</td>\n",
       "      <td>64.72</td>\n",
       "      <td>100.0</td>\n",
       "      <td>4500</td>\n",
       "      <td>Weekday</td>\n",
       "      <td>Monday</td>\n",
       "      <td>Light_Load</td>\n",
       "    </tr>\n",
       "  </tbody>\n",
       "</table>\n",
       "</div>"
      ],
      "text/plain": [
       "                 date  LagRP  LeadRP  CO2  LagPF  LeadPF   NSM  WStatus  \\\n",
       "0 2018-01-01 00:15:00   2.95     0.0  0.0  73.21   100.0   900  Weekday   \n",
       "1 2018-01-01 00:30:00   4.46     0.0  0.0  66.77   100.0  1800  Weekday   \n",
       "2 2018-01-01 00:45:00   3.28     0.0  0.0  70.28   100.0  2700  Weekday   \n",
       "3 2018-01-01 01:00:00   3.56     0.0  0.0  68.09   100.0  3600  Weekday   \n",
       "4 2018-01-01 01:15:00   4.50     0.0  0.0  64.72   100.0  4500  Weekday   \n",
       "\n",
       "    Dweek   Load_Type  \n",
       "0  Monday  Light_Load  \n",
       "1  Monday  Light_Load  \n",
       "2  Monday  Light_Load  \n",
       "3  Monday  Light_Load  \n",
       "4  Monday  Light_Load  "
      ]
     },
     "execution_count": 25,
     "metadata": {},
     "output_type": "execute_result"
    }
   ],
   "source": [
    "X, y = split_input_output(df_renamed, 'Usage')\n",
    "X.head()"
   ]
  },
  {
   "cell_type": "code",
   "execution_count": 26,
   "id": "2f0bbfe0-d502-45ec-87d9-38e059acb104",
   "metadata": {
    "tags": []
   },
   "outputs": [
    {
     "data": {
      "text/plain": [
       "0    3.17\n",
       "1    4.00\n",
       "2    3.24\n",
       "3    3.31\n",
       "4    3.82\n",
       "Name: Usage, dtype: float64"
      ]
     },
     "execution_count": 26,
     "metadata": {},
     "output_type": "execute_result"
    }
   ],
   "source": [
    "y.head()"
   ]
  },
  {
   "cell_type": "code",
   "execution_count": 27,
   "id": "c4df7bb4-3d85-4c35-8348-2515152c1264",
   "metadata": {
    "tags": []
   },
   "outputs": [],
   "source": [
    "from sklearn.model_selection import train_test_split\n",
    "\n",
    "X_train, X_test, y_train, y_test = train_test_split(X,\n",
    "                                                   y,\n",
    "                                                   test_size = 0.2,\n",
    "                                                   random_state = 123)"
   ]
  },
  {
   "cell_type": "code",
   "execution_count": 28,
   "id": "0a7ce26c-00e3-4884-87f0-6aa8eee82be2",
   "metadata": {
    "tags": []
   },
   "outputs": [
    {
     "data": {
      "text/plain": [
       "['D:/ML/INTRO ML/Project/joblib_train_test/data.csv']"
      ]
     },
     "execution_count": 28,
     "metadata": {},
     "output_type": "execute_result"
    }
   ],
   "source": [
    "# save data\n",
    "joblib.dump(X_train,\"D:/ML/INTRO ML/Project/joblib_train_test/X_train.csv\")\n",
    "joblib.dump(y_train,\"D:/ML/INTRO ML/Project/joblib_train_test/y_train.csv\")\n",
    "joblib.dump(X_test,\"D:/ML/INTRO ML/Project/joblib_train_test/X_test.csv\")\n",
    "joblib.dump(y_test,\"D:/ML/INTRO ML/Project/joblib_train_test/y_test.csv\")\n",
    "joblib.dump(df_renamed,\"D:/ML/INTRO ML/Project/joblib_train_test/data.csv\")"
   ]
  }
 ],
 "metadata": {
  "kernelspec": {
   "display_name": "Python 3 (ipykernel)",
   "language": "python",
   "name": "python3"
  },
  "language_info": {
   "codemirror_mode": {
    "name": "ipython",
    "version": 3
   },
   "file_extension": ".py",
   "mimetype": "text/x-python",
   "name": "python",
   "nbconvert_exporter": "python",
   "pygments_lexer": "ipython3",
   "version": "3.11.4"
  }
 },
 "nbformat": 4,
 "nbformat_minor": 5
}
